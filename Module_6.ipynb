{
 "cells": [
  {
   "cell_type": "code",
   "execution_count": 2,
   "metadata": {},
   "outputs": [],
   "source": [
    "%matplotlib inline\n",
    "\n",
    "import pandas as pd\n",
    "from sklearn.cluster import KMeans\n",
    "import matplotlib.pyplot as plt"
   ]
  },
  {
   "cell_type": "code",
   "execution_count": 7,
   "metadata": {},
   "outputs": [
    {
     "name": "stdout",
     "output_type": "stream",
     "text": [
      "   magnitude  cdi  mmi   alert  tsunami   sig    depth\n",
      "0        7.0    8    7   green        1   768   14.000\n",
      "1        6.9    4    4   green        0   735   25.000\n",
      "2        7.0    3    3   green        1   755  579.000\n",
      "3        7.3    5    5   green        1   833   37.000\n",
      "4        6.6    0    2   green        1   670  624.464\n",
      "5        7.0    4    3   green        1   755  660.000\n",
      "6        6.8    1    3   green        1   711  630.379\n",
      "7        6.7    7    6   green        1   797   20.000\n",
      "8        6.8    8    7  yellow        1  1179   20.000\n",
      "9        7.6    9    8  yellow        1  1799   26.943\n"
     ]
    }
   ],
   "source": [
    "earthquake_df = pd.read_csv(\"earthquake_data.csv\")\n",
    "columns_to_remove = [\"title\", \"date_time\", \"magType\", \"location\", \"continent\", \"country\", \"latitude\", \"longitude\", \"net\", \"nst\", \"gap\", \"dmin\"]\n",
    "cleaned_earthquake_df = earthquake_df.drop(columns=columns_to_remove)\n",
    "\n",
    "new_cleaned_earthquake_df = cleaned_earthquake_df.dropna()\n",
    "\n",
    "print(new_cleaned_earthquake_df.head(10))"
   ]
  }
 ],
 "metadata": {
  "kernelspec": {
   "display_name": "Python 3",
   "language": "python",
   "name": "python3"
  },
  "language_info": {
   "codemirror_mode": {
    "name": "ipython",
    "version": 3
   },
   "file_extension": ".py",
   "mimetype": "text/x-python",
   "name": "python",
   "nbconvert_exporter": "python",
   "pygments_lexer": "ipython3",
   "version": "3.12.1"
  }
 },
 "nbformat": 4,
 "nbformat_minor": 2
}
